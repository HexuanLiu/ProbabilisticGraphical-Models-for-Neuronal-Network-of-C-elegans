{
 "cells": [
  {
   "cell_type": "code",
   "execution_count": null,
   "metadata": {
    "collapsed": true
   },
   "outputs": [],
   "source": [
    "%matplotlib inline\n",
    "\n",
    "import os\n",
    "import numpy as np\n",
    "import matplotlib.pyplot as plt\n",
    "\n",
    "import matplotlib.animation as animation\n",
    "import scipy.io as sio\n",
    "\n",
    "default_dir = os.path.dirname(os.getcwd())\n",
    "\n",
    "os.chdir(default_dir)\n",
    "\n",
    "from scripts import celegans_dynome as c_dynome\n",
    "from scripts import sys_paths as paths"
   ]
  },
  {
   "cell_type": "code",
   "execution_count": null,
   "metadata": {
    "collapsed": true
   },
   "outputs": [],
   "source": [
    "neurons = c_util.load_Json('neurons.json')\n",
    "neurons_list = neurons['neurons']"
   ]
  },
  {
   "cell_type": "code",
   "execution_count": null,
   "metadata": {
    "collapsed": true
   },
   "outputs": [],
   "source": [
    "### start simulation\n",
    "\n",
    "\n",
    "start=timer()\n",
    "mylist=[] # list of probability\n",
    "singular_values=[] # stores percentage of all singular values\n",
    "\n",
    "# for every neuron in the network\n",
    "for i in range(0,279):\n",
    "    # clear the mask\n",
    "    input_Mask = np.zeros(c_dynome.N)\n",
    "    ablation_Mask = np.ones(c_dynome.N, dtype = 'bool')\n",
    "    # inject input of 20k into the i-th neuron\n",
    "    input_Mask[i]=0.2\n",
    "    # run the network for 15 seconds\n",
    "    result_dict = c_dynome.run_Network(0, 15, 0.01, input_Mask, ablation_Mask)\n",
    "    # get the results\n",
    "    nsteps = result_dict['steps']\n",
    "    Traj = result_dict['trajectory_mat']\n",
    "    Vth = result_dict['V_threshold']\n",
    "    VsubVth = np.subtract(Traj, np.tile(Vth, (nsteps, 1))).transpose()\n",
    "    # perform SVD on the resulting matrix\n",
    "    U, s, Z = np.linalg.svd(VsubVth[:,100:], full_matrices=False)\n",
    "    # compute the conditional probabilities\n",
    "    \n",
    "    percentage=np.divide(np.power(s, 2), np.sum(np.power(s, 2)))[:]\n",
    "    weighted=[]\n",
    "    result=np.zeros(279)\n",
    "    for j in range(279):\n",
    "        weighted=[abs(x)*percentage[j] for x in U[:,j]]\n",
    "        result=[x+y for x,y in zip(result, weighted)] \n",
    " \n",
    "    prob=result/result[i]\n",
    "    mylist.extend(prob)\n",
    "    singular_values.extend(percentage)\n",
    "\n",
    "output = open('weighted_sum.pkl', 'wb')\n",
    "pickle.dump(mylist, output)\n",
    "output.close() \n",
    "\n",
    "output=open('singular_values.pkl','wb')\n",
    "pickle.dump(singular_values, output)\n",
    "output.close()\n",
    "end=timer()\n",
    "print end-start\n",
    "\n",
    "cpt=np.reshape(mylist,(279,279))\n",
    "import pandas as pd\n",
    "cpt_new=pd.DataFrame(cpt)\n",
    "cpt_new.to_csv('cpt_new.csv')"
   ]
  }
 ],
 "metadata": {
  "kernelspec": {
   "display_name": "Python 2",
   "language": "python",
   "name": "python2"
  },
  "language_info": {
   "codemirror_mode": {
    "name": "ipython",
    "version": 2
   },
   "file_extension": ".py",
   "mimetype": "text/x-python",
   "name": "python",
   "nbconvert_exporter": "python",
   "pygments_lexer": "ipython2",
   "version": "2.7.14"
  }
 },
 "nbformat": 4,
 "nbformat_minor": 2
}
