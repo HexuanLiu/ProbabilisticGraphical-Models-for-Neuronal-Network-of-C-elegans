{
 "cells": [
  {
   "cell_type": "code",
   "execution_count": null,
   "metadata": {
    "collapsed": true
   },
   "outputs": [],
   "source": [
    "%matplotlib inline\n",
    "\n",
    "import os\n",
    "import numpy as np\n",
    "import pickle\n",
    "import matplotlib.pyplot as plt\n",
    "\n",
    "import matplotlib.animation as animation\n",
    "import scipy.io as sio\n",
    "\n",
    "default_dir = os.path.dirname(os.getcwd())\n",
    "\n",
    "os.chdir(default_dir)\n",
    "\n",
    "from scripts import celegans_dynome as c_dynome\n",
    "from scripts import celegans_utilities as c_util\n",
    "from scripts import sys_paths as paths\n",
    "from timeit import default_timer as timer"
   ]
  },
  {
   "cell_type": "code",
   "execution_count": null,
   "metadata": {
    "collapsed": true
   },
   "outputs": [],
   "source": [
    "neurons_list = c_dynome.neurons_list\n",
    "neurons_name=[]\n",
    "for i in range(0,279):\n",
    "    neurons_name.append(neurons_list[i]['name'].encode('ascii','ignore'))\n",
    "\n",
    "sensory = []\n",
    "inter = []\n",
    "motor = []\n",
    "\n",
    "for neuron in neurons_list:\n",
    "    \n",
    "    if neuron['group'] == 'sensory':\n",
    "        \n",
    "        sensory.append(neuron['index'])\n",
    "        \n",
    "    elif neuron['group'] == 'inter':\n",
    "        \n",
    "        inter.append(neuron['index'])\n",
    "        \n",
    "    else:\n",
    "        \n",
    "        motor.append(neuron['index'])"
   ]
  },
  {
   "cell_type": "code",
   "execution_count": null,
   "metadata": {
    "collapsed": true
   },
   "outputs": [],
   "source": [
    "from anytree import Node, RenderTree\n",
    "from anytree.dotexport import RenderTreeGraph\n",
    "from graphviz import Digraph\n",
    "# graphviz needs to be installed for the next line!\n",
    "import operator"
   ]
  },
  {
   "cell_type": "code",
   "execution_count": null,
   "metadata": {
    "collapsed": true
   },
   "outputs": [],
   "source": [
    "pkl_file = open('weighted_sum.pkl', 'rb')\n",
    "data1 = pickle.load(pkl_file)\n",
    "cpt=np.reshape(data1,(279,279))\n",
    "def extend_tree(new_parent,pindex,plist,count):  \n",
    "    if (count>1):\n",
    "        count=0\n",
    "        return\n",
    "    \n",
    "    if new_parent==None:\n",
    "        return\n",
    "    elif pindex not in plist:\n",
    "        plist.append(pindex)\n",
    "        child_list={}\n",
    "        count=count+1\n",
    "         \n",
    "            \n",
    "        for i in range(0,279):\n",
    "            prob=cpt[pindex,i]\n",
    "            if pindex in sensory:\n",
    "                if (prob>=0.1 and i not in plist and i in inter):\n",
    "                    child_list[i]=prob\n",
    "            if pindex in inter:\n",
    "                if (prob>=0.1 and i not in plist and i in motor):\n",
    "                    child_list[i]=prob\n",
    "\n",
    "        if child_list==None:\n",
    "            return\n",
    "        \n",
    "        else:\n",
    "            sorted_child=sorted(child_list.items(), key=operator.itemgetter(1))\n",
    "            num=len(sorted_child)\n",
    "            for j in range(0,min(num,num)):\n",
    "                c=sorted_child[num-j-1][0]\n",
    "                new_child=Node(neurons_name[c],parent=new_parent)\n",
    "                extend_tree(new_child,c,plist,count)\n",
    "        "
   ]
  },
  {
   "cell_type": "code",
   "execution_count": null,
   "metadata": {
    "collapsed": true
   },
   "outputs": [],
   "source": [
    "## example: PLML as the input node\n",
    "\n",
    "count=0\n",
    "inter_layer=1\n",
    "active=[]\n",
    "Input=Node(\"Input\")\n",
    "\n",
    "\n",
    "PLML=Node(\"PLML\",parent=Input)\n",
    "extend_tree(PLML,278,active, count)\n",
    "\n",
    "\n",
    "for pre, fill, node in RenderTree(Input):\n",
    "    print(\"%s%s\" % (pre, node.name))\n",
    "\n",
    "RenderTreeGraph(Input).to_picture(\"PLML.png\")\n"
   ]
  }
 ],
 "metadata": {
  "kernelspec": {
   "display_name": "Python 2",
   "language": "python",
   "name": "python2"
  },
  "language_info": {
   "codemirror_mode": {
    "name": "ipython",
    "version": 2
   },
   "file_extension": ".py",
   "mimetype": "text/x-python",
   "name": "python",
   "nbconvert_exporter": "python",
   "pygments_lexer": "ipython2",
   "version": "2.7.14"
  }
 },
 "nbformat": 4,
 "nbformat_minor": 2
}
